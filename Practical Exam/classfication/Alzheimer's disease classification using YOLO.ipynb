{
 "cells": [
  {
   "cell_type": "code",
   "execution_count": 1,
   "id": "1e9bc5b1-7387-4831-9af0-643627c4817a",
   "metadata": {},
   "outputs": [],
   "source": [
    "from ultralytics import YOLO\n",
    "\n",
    "# Load the YOLOv8 classification model\n",
    "model = YOLO('yolov8n-cls.pt')\n",
    "device = 'cpu'\n",
    "# Train the model with CPU optimization\n"
   ]
  },
  {
   "cell_type": "code",
   "execution_count": 2,
   "id": "22588a71-b257-471e-b10c-a766b0f2d044",
   "metadata": {},
   "outputs": [],
   "source": [
    "import os \n",
    "os.environ['KMP_DUPLICATE_LIB_OK'] = 'True'"
   ]
  },
  {
   "cell_type": "code",
   "execution_count": 3,
   "id": "af814c37-8cb1-4593-b90e-19fe9ad9d82f",
   "metadata": {},
   "outputs": [
    {
     "name": "stdout",
     "output_type": "stream",
     "text": [
      "New https://pypi.org/project/ultralytics/8.3.46 available  Update with 'pip install -U ultralytics'\n",
      "Ultralytics 8.3.39  Python-3.12.4 torch-2.5.0+cu118 CUDA:0 (Quadro M3000M, 4096MiB)\n",
      "\u001b[34m\u001b[1mengine\\trainer: \u001b[0mtask=classify, mode=train, model=yolov8n-cls.pt, data=D:\\Term1th4\\Computer_Vision\\Sections\\SEC4\\Alzheimer_s_Dataset, epochs=1, time=None, patience=100, batch=16, imgsz=224, save=True, save_period=-1, cache=False, device=None, workers=8, project=None, name=train29, exist_ok=False, pretrained=True, optimizer=auto, verbose=True, seed=0, deterministic=True, single_cls=False, rect=False, cos_lr=False, close_mosaic=10, resume=False, amp=True, fraction=1.0, profile=False, freeze=None, multi_scale=False, overlap_mask=True, mask_ratio=4, dropout=0.0, val=True, split=val, save_json=False, save_hybrid=False, conf=None, iou=0.7, max_det=300, half=False, dnn=False, plots=True, source=None, vid_stride=1, stream_buffer=False, visualize=False, augment=False, agnostic_nms=False, classes=None, retina_masks=False, embed=None, show=False, save_frames=False, save_txt=False, save_conf=False, save_crop=False, show_labels=True, show_conf=True, show_boxes=True, line_width=None, format=torchscript, keras=False, optimize=False, int8=False, dynamic=False, simplify=True, opset=None, workspace=None, nms=False, lr0=0.01, lrf=0.01, momentum=0.937, weight_decay=0.0005, warmup_epochs=3.0, warmup_momentum=0.8, warmup_bias_lr=0.1, box=7.5, cls=0.5, dfl=1.5, pose=12.0, kobj=1.0, nbs=64, hsv_h=0.015, hsv_s=0.7, hsv_v=0.4, degrees=0.0, translate=0.1, scale=0.5, shear=0.0, perspective=0.0, flipud=0.0, fliplr=0.5, bgr=0.0, mosaic=1.0, mixup=0.0, copy_paste=0.0, copy_paste_mode=flip, auto_augment=randaugment, erasing=0.4, crop_fraction=1.0, cfg=None, tracker=botsort.yaml, save_dir=runs\\classify\\train29\n",
      "\u001b[34m\u001b[1mtrain:\u001b[0m D:\\Term1th4\\Computer_Vision\\Sections\\SEC4\\Alzheimer_s_Dataset\\train... found 5121 images in 4 classes  \n",
      "\u001b[34m\u001b[1mval:\u001b[0m D:\\Term1th4\\Computer_Vision\\Sections\\SEC4\\Alzheimer_s_Dataset\\val... found 1279 images in 4 classes  \n",
      "\u001b[34m\u001b[1mtest:\u001b[0m D:\\Term1th4\\Computer_Vision\\Sections\\SEC4\\Alzheimer_s_Dataset\\test... found 520 images in 4 classes  \n",
      "Overriding model.yaml nc=1000 with nc=4\n",
      "\n",
      "                   from  n    params  module                                       arguments                     \n",
      "  0                  -1  1       464  ultralytics.nn.modules.conv.Conv             [3, 16, 3, 2]                 \n",
      "  1                  -1  1      4672  ultralytics.nn.modules.conv.Conv             [16, 32, 3, 2]                \n",
      "  2                  -1  1      7360  ultralytics.nn.modules.block.C2f             [32, 32, 1, True]             \n",
      "  3                  -1  1     18560  ultralytics.nn.modules.conv.Conv             [32, 64, 3, 2]                \n",
      "  4                  -1  2     49664  ultralytics.nn.modules.block.C2f             [64, 64, 2, True]             \n",
      "  5                  -1  1     73984  ultralytics.nn.modules.conv.Conv             [64, 128, 3, 2]               \n",
      "  6                  -1  2    197632  ultralytics.nn.modules.block.C2f             [128, 128, 2, True]           \n",
      "  7                  -1  1    295424  ultralytics.nn.modules.conv.Conv             [128, 256, 3, 2]              \n",
      "  8                  -1  1    460288  ultralytics.nn.modules.block.C2f             [256, 256, 1, True]           \n",
      "  9                  -1  1    335364  ultralytics.nn.modules.head.Classify         [256, 4]                      \n",
      "YOLOv8n-cls summary: 99 layers, 1,443,412 parameters, 1,443,412 gradients, 3.4 GFLOPs\n",
      "Transferred 156/158 items from pretrained weights\n",
      "\u001b[34m\u001b[1mTensorBoard: \u001b[0mStart with 'tensorboard --logdir runs\\classify\\train29', view at http://localhost:6006/\n",
      "\u001b[34m\u001b[1mAMP: \u001b[0mrunning Automatic Mixed Precision (AMP) checks...\n",
      "\u001b[34m\u001b[1mAMP: \u001b[0mchecks passed \n"
     ]
    },
    {
     "name": "stderr",
     "output_type": "stream",
     "text": [
      "\u001b[34m\u001b[1mtrain: \u001b[0mScanning D:\\Term1th4\\Computer_Vision\\Sections\\SEC4\\Alzheimer_s_Dataset\\train... 5121 images, 0 corrupt: 100%|███\u001b[0m\n",
      "\u001b[34m\u001b[1mval: \u001b[0mScanning D:\\Term1th4\\Computer_Vision\\Sections\\SEC4\\Alzheimer_s_Dataset\\val... 1279 images, 0 corrupt: 100%|███████\u001b[0m\n"
     ]
    },
    {
     "name": "stdout",
     "output_type": "stream",
     "text": [
      "\u001b[34m\u001b[1moptimizer:\u001b[0m 'optimizer=auto' found, ignoring 'lr0=0.01' and 'momentum=0.937' and determining best 'optimizer', 'lr0' and 'momentum' automatically... \n",
      "\u001b[34m\u001b[1moptimizer:\u001b[0m AdamW(lr=0.000714, momentum=0.9) with parameter groups 26 weight(decay=0.0), 27 weight(decay=0.0005), 27 bias(decay=0.0)\n",
      "\u001b[34m\u001b[1mTensorBoard: \u001b[0mmodel graph visualization added \n",
      "Image sizes 224 train, 224 val\n",
      "Using 8 dataloader workers\n",
      "Logging results to \u001b[1mruns\\classify\\train29\u001b[0m\n",
      "Starting training for 1 epochs...\n",
      "\n",
      "      Epoch    GPU_mem       loss  Instances       Size\n"
     ]
    },
    {
     "name": "stderr",
     "output_type": "stream",
     "text": [
      "        1/1     0.325G       1.04          1        224: 100%|██████████| 321/321 [00:21<00:00, 14.98it/s]\n",
      "               classes   top1_acc   top5_acc: 100%|██████████| 40/40 [00:01<00:00, 22.23it/s]\n"
     ]
    },
    {
     "name": "stdout",
     "output_type": "stream",
     "text": [
      "                   all      0.577          1\n",
      "\n",
      "1 epochs completed in 0.008 hours.\n",
      "Optimizer stripped from runs\\classify\\train29\\weights\\last.pt, 3.0MB\n",
      "Optimizer stripped from runs\\classify\\train29\\weights\\best.pt, 3.0MB\n",
      "\n",
      "Validating runs\\classify\\train29\\weights\\best.pt...\n",
      "Ultralytics 8.3.39  Python-3.12.4 torch-2.5.0+cu118 CUDA:0 (Quadro M3000M, 4096MiB)\n",
      "YOLOv8n-cls summary (fused): 73 layers, 1,440,004 parameters, 0 gradients, 3.3 GFLOPs\n",
      "\u001b[34m\u001b[1mtrain:\u001b[0m D:\\Term1th4\\Computer_Vision\\Sections\\SEC4\\Alzheimer_s_Dataset\\train... found 5121 images in 4 classes  \n",
      "\u001b[34m\u001b[1mval:\u001b[0m D:\\Term1th4\\Computer_Vision\\Sections\\SEC4\\Alzheimer_s_Dataset\\val... found 1279 images in 4 classes  \n",
      "\u001b[34m\u001b[1mtest:\u001b[0m D:\\Term1th4\\Computer_Vision\\Sections\\SEC4\\Alzheimer_s_Dataset\\test... found 520 images in 4 classes  \n"
     ]
    },
    {
     "name": "stderr",
     "output_type": "stream",
     "text": [
      "               classes   top1_acc   top5_acc: 100%|██████████| 40/40 [00:01<00:00, 25.16it/s]\n"
     ]
    },
    {
     "name": "stdout",
     "output_type": "stream",
     "text": [
      "                   all      0.579          1\n",
      "Speed: 0.2ms preprocess, 0.9ms inference, 0.0ms loss, 0.0ms postprocess per image\n",
      "Results saved to \u001b[1mruns\\classify\\train29\u001b[0m\n"
     ]
    },
    {
     "data": {
      "text/plain": [
       "ultralytics.utils.metrics.ClassifyMetrics object with attributes:\n",
       "\n",
       "confusion_matrix: <ultralytics.utils.metrics.ConfusionMatrix object at 0x000001B10758FC20>\n",
       "curves: []\n",
       "curves_results: []\n",
       "fitness: 0.7892885208129883\n",
       "keys: ['metrics/accuracy_top1', 'metrics/accuracy_top5']\n",
       "results_dict: {'metrics/accuracy_top1': 0.5785770416259766, 'metrics/accuracy_top5': 1.0, 'fitness': 0.7892885208129883}\n",
       "save_dir: WindowsPath('runs/classify/train29')\n",
       "speed: {'preprocess': 0.22146233923273034, 'inference': 0.8530611167949471, 'loss': 0.0007790080078697653, 'postprocess': 0.0}\n",
       "task: 'classify'\n",
       "top1: 0.5785770416259766\n",
       "top5: 1.0"
      ]
     },
     "execution_count": 3,
     "metadata": {},
     "output_type": "execute_result"
    }
   ],
   "source": [
    "model.train( data='D:\\\\Term1th4\\\\Computer_Vision\\\\Sections\\\\SEC4\\\\Alzheimer_s_Dataset', epochs=1 )"
   ]
  },
  {
   "cell_type": "code",
   "execution_count": 4,
   "id": "6b711ef1-ef0f-4677-bc2a-2618386f4561",
   "metadata": {},
   "outputs": [],
   "source": [
    "import os \n",
    "os.environ['KMP_DUPLICATE_LIB_OK'] = 'True'"
   ]
  },
  {
   "cell_type": "code",
   "execution_count": 5,
   "id": "a440adaa-14a3-409c-b6f3-88ee703cac81",
   "metadata": {},
   "outputs": [
    {
     "name": "stdout",
     "output_type": "stream",
     "text": [
      "Ultralytics 8.3.39  Python-3.12.4 torch-2.5.0+cu118 CUDA:0 (Quadro M3000M, 4096MiB)\n",
      "YOLOv8n-cls summary (fused): 73 layers, 1,440,004 parameters, 0 gradients, 3.3 GFLOPs\n",
      "\u001b[34m\u001b[1mtrain:\u001b[0m D:\\Term1th4\\Computer_Vision\\Sections\\SEC4\\Alzheimer_s_Dataset\\train... found 5121 images in 4 classes  \n",
      "\u001b[34m\u001b[1mval:\u001b[0m D:\\Term1th4\\Computer_Vision\\Sections\\SEC4\\Alzheimer_s_Dataset\\val... found 1279 images in 4 classes  \n",
      "\u001b[34m\u001b[1mtest:\u001b[0m D:\\Term1th4\\Computer_Vision\\Sections\\SEC4\\Alzheimer_s_Dataset\\test... found 520 images in 4 classes  \n"
     ]
    },
    {
     "name": "stderr",
     "output_type": "stream",
     "text": [
      "\u001b[34m\u001b[1mval: \u001b[0mScanning D:\\Term1th4\\Computer_Vision\\Sections\\SEC4\\Alzheimer_s_Dataset\\val... 1279 images, 0 corrupt: 100%|███████\u001b[0m\n",
      "               classes   top1_acc   top5_acc: 100%|██████████| 80/80 [00:05<00:00, 14.81it/s]\n"
     ]
    },
    {
     "name": "stdout",
     "output_type": "stream",
     "text": [
      "                   all      0.577          1\n",
      "Speed: 0.2ms preprocess, 1.2ms inference, 0.0ms loss, 0.0ms postprocess per image\n",
      "Results saved to \u001b[1mruns\\classify\\train292\u001b[0m\n"
     ]
    },
    {
     "data": {
      "text/plain": [
       "1.0"
      ]
     },
     "execution_count": 5,
     "metadata": {},
     "output_type": "execute_result"
    }
   ],
   "source": [
    " metrics = model.val()\n",
    " metrics.top1                       \n",
    "metrics.top5 "
   ]
  },
  {
   "cell_type": "code",
   "execution_count": 18,
   "id": "d93369e2-2413-42a2-a053-90d006657e1e",
   "metadata": {},
   "outputs": [
    {
     "name": "stdout",
     "output_type": "stream",
     "text": [
      "\n",
      "image 1/1 D:\\Term1th4\\Computer_Vision\\Sections\\SEC4\\Alzheimer_s_Dataset\\test\\NonDemented\\26 (2).jpg: 224x224 NonDemented 0.91, VeryMildDemented 0.09, MildDemented 0.01, ModerateDemented 0.00, 18.0ms\n",
      "Speed: 5.0ms preprocess, 18.0ms inference, 1.0ms postprocess per image at shape (1, 3, 224, 224)\n",
      "tensor([8.5446e-03, 5.4631e-04, 9.0512e-01, 8.5793e-02], device='cuda:0')\n"
     ]
    }
   ],
   "source": [
    "results = model.predict('D:\\\\Term1th4\\\\Computer_Vision\\\\Sections\\\\SEC4\\\\Alzheimer_s_Dataset\\\\test\\\\NonDemented\\\\26 (2).jpg')\n",
    "\n",
    "if isinstance(results, list) and len(results) > 0:\n",
    "    probs = results[0].probs\n",
    "    print(probs.data)\n",
    "else:\n",
    "    print(\"Prediction results are not in the expected format.\")"
   ]
  },
  {
   "cell_type": "code",
   "execution_count": null,
   "id": "c21e0c53-cea6-4a4d-bab6-a1fbae644c9e",
   "metadata": {},
   "outputs": [],
   "source": []
  }
 ],
 "metadata": {
  "kernelspec": {
   "display_name": "Python 3 (ipykernel)",
   "language": "python",
   "name": "python3"
  },
  "language_info": {
   "codemirror_mode": {
    "name": "ipython",
    "version": 3
   },
   "file_extension": ".py",
   "mimetype": "text/x-python",
   "name": "python",
   "nbconvert_exporter": "python",
   "pygments_lexer": "ipython3",
   "version": "3.12.4"
  }
 },
 "nbformat": 4,
 "nbformat_minor": 5
}
